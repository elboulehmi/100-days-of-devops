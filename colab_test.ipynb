{
  "nbformat": 4,
  "nbformat_minor": 0,
  "metadata": {
    "colab": {
      "name": "Untitled0.ipynb",
      "provenance": [],
      "authorship_tag": "ABX9TyOKVQCgnreinZSnWuEbHRH5",
      "include_colab_link": true
    },
    "kernelspec": {
      "name": "python3",
      "display_name": "Python 3"
    },
    "accelerator": "GPU"
  },
  "cells": [
    {
      "cell_type": "markdown",
      "metadata": {
        "id": "view-in-github",
        "colab_type": "text"
      },
      "source": [
        "<a href=\"https://colab.research.google.com/github/elboulehmi/100-days-of-devops/blob/master/colab_test.ipynb\" target=\"_parent\"><img src=\"https://colab.research.google.com/assets/colab-badge.svg\" alt=\"Open In Colab\"/></a>"
      ]
    },
    {
      "cell_type": "code",
      "metadata": {
        "colab": {
          "base_uri": "https://localhost:8080/"
        },
        "id": "bncbsnIOHT1_",
        "outputId": "6e4f5930-0df0-4878-c798-4e75435e0bff"
      },
      "source": [
        "print (\"hello world\")"
      ],
      "execution_count": 2,
      "outputs": [
        {
          "output_type": "stream",
          "text": [
            "hello world\n"
          ],
          "name": "stdout"
        }
      ]
    },
    {
      "cell_type": "code",
      "metadata": {
        "colab": {
          "base_uri": "https://localhost:8080/"
        },
        "id": "3jIVZmYXHy9Z",
        "outputId": "a0aef3b6-355c-4217-f846-771254d8f7fa"
      },
      "source": [
        "def HelloWorldXY(x,y):\n",
        "  if ( x < 10 ):\n",
        "    print (\"hello world ,x < 10\" )\n",
        "  elif ( x < 20 ):\n",
        "      print(\"hello world ,x >= 10 but x<20\")\n",
        "  else:\n",
        "        print(\"hello world ,x>=20\")\n",
        "  return x+y\n",
        "for i in range(8, 25 ,5):\n",
        "  print(\"---now running with i:{}\".format(i))\n",
        "  r=HelloWorldXY(i,i)\n",
        "  print(\"result from helloworld: {}\" .format(i,r))\n",
        "\n"
      ],
      "execution_count": 8,
      "outputs": [
        {
          "output_type": "stream",
          "text": [
            "---now running with i:8\n",
            "hello world ,x < 10\n",
            "result from helloworld: 8\n",
            "---now running with i:13\n",
            "hello world ,x >= 10 but x<20\n",
            "result from helloworld: 13\n",
            "---now running with i:18\n",
            "hello world ,x >= 10 but x<20\n",
            "result from helloworld: 18\n",
            "---now running with i:23\n",
            "hello world ,x>=20\n",
            "result from helloworld: 23\n"
          ],
          "name": "stdout"
        }
      ]
    },
    {
      "cell_type": "code",
      "metadata": {
        "colab": {
          "base_uri": "https://localhost:8080/"
        },
        "id": "iCBh-zRILBpl",
        "outputId": "5524687b-dee8-44f9-c327-bc868f4cd8ac"
      },
      "source": [
        "print (HelloWorldXY(1,2))"
      ],
      "execution_count": 10,
      "outputs": [
        {
          "output_type": "stream",
          "text": [
            "hello world ,x < 10\n",
            "3\n"
          ],
          "name": "stdout"
        }
      ]
    },
    {
      "cell_type": "code",
      "metadata": {
        "colab": {
          "base_uri": "https://localhost:8080/"
        },
        "id": "P36gTdA_M7vz",
        "outputId": "f7f0c8aa-f202-4da2-db98-7362ed6efbbf"
      },
      "source": [
        "!pwd\n",
        "!cd /\n",
        "!ls -l\n",
        "print (\"hello\")"
      ],
      "execution_count": 2,
      "outputs": [
        {
          "output_type": "stream",
          "text": [
            "/content\n",
            "total 4\n",
            "drwxr-xr-x 1 root root 4096 Feb  4 15:26 sample_data\n",
            "hello\n"
          ],
          "name": "stdout"
        }
      ]
    }
  ]
}